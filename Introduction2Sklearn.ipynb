{
 "cells": [
  {
   "cell_type": "code",
   "execution_count": 1,
   "metadata": {},
   "outputs": [
    {
     "data": {
      "text/html": [
       "<table class=\"data-frame\"><thead><tr><th></th><th>SepalLength</th><th>SepalWidth</th><th>PetalLength</th><th>PetalWidth</th><th>Species</th></tr><tr><th></th><th>Float64</th><th>Float64</th><th>Float64</th><th>Float64</th><th>Categorical…</th></tr></thead><tbody><tr><th>1</th><td>5.1</td><td>3.5</td><td>1.4</td><td>0.2</td><td>setosa</td></tr><tr><th>2</th><td>4.9</td><td>3.0</td><td>1.4</td><td>0.2</td><td>setosa</td></tr><tr><th>3</th><td>4.7</td><td>3.2</td><td>1.3</td><td>0.2</td><td>setosa</td></tr><tr><th>4</th><td>4.6</td><td>3.1</td><td>1.5</td><td>0.2</td><td>setosa</td></tr><tr><th>5</th><td>5.0</td><td>3.6</td><td>1.4</td><td>0.2</td><td>setosa</td></tr><tr><th>6</th><td>5.4</td><td>3.9</td><td>1.7</td><td>0.4</td><td>setosa</td></tr><tr><th>7</th><td>4.6</td><td>3.4</td><td>1.4</td><td>0.3</td><td>setosa</td></tr><tr><th>8</th><td>5.0</td><td>3.4</td><td>1.5</td><td>0.2</td><td>setosa</td></tr><tr><th>9</th><td>4.4</td><td>2.9</td><td>1.4</td><td>0.2</td><td>setosa</td></tr><tr><th>10</th><td>4.9</td><td>3.1</td><td>1.5</td><td>0.1</td><td>setosa</td></tr><tr><th>11</th><td>5.4</td><td>3.7</td><td>1.5</td><td>0.2</td><td>setosa</td></tr><tr><th>12</th><td>4.8</td><td>3.4</td><td>1.6</td><td>0.2</td><td>setosa</td></tr><tr><th>13</th><td>4.8</td><td>3.0</td><td>1.4</td><td>0.1</td><td>setosa</td></tr><tr><th>14</th><td>4.3</td><td>3.0</td><td>1.1</td><td>0.1</td><td>setosa</td></tr><tr><th>15</th><td>5.8</td><td>4.0</td><td>1.2</td><td>0.2</td><td>setosa</td></tr><tr><th>16</th><td>5.7</td><td>4.4</td><td>1.5</td><td>0.4</td><td>setosa</td></tr><tr><th>17</th><td>5.4</td><td>3.9</td><td>1.3</td><td>0.4</td><td>setosa</td></tr><tr><th>18</th><td>5.1</td><td>3.5</td><td>1.4</td><td>0.3</td><td>setosa</td></tr><tr><th>19</th><td>5.7</td><td>3.8</td><td>1.7</td><td>0.3</td><td>setosa</td></tr><tr><th>20</th><td>5.1</td><td>3.8</td><td>1.5</td><td>0.3</td><td>setosa</td></tr><tr><th>21</th><td>5.4</td><td>3.4</td><td>1.7</td><td>0.2</td><td>setosa</td></tr><tr><th>22</th><td>5.1</td><td>3.7</td><td>1.5</td><td>0.4</td><td>setosa</td></tr><tr><th>23</th><td>4.6</td><td>3.6</td><td>1.0</td><td>0.2</td><td>setosa</td></tr><tr><th>24</th><td>5.1</td><td>3.3</td><td>1.7</td><td>0.5</td><td>setosa</td></tr><tr><th>25</th><td>4.8</td><td>3.4</td><td>1.9</td><td>0.2</td><td>setosa</td></tr><tr><th>26</th><td>5.0</td><td>3.0</td><td>1.6</td><td>0.2</td><td>setosa</td></tr><tr><th>27</th><td>5.0</td><td>3.4</td><td>1.6</td><td>0.4</td><td>setosa</td></tr><tr><th>28</th><td>5.2</td><td>3.5</td><td>1.5</td><td>0.2</td><td>setosa</td></tr><tr><th>29</th><td>5.2</td><td>3.4</td><td>1.4</td><td>0.2</td><td>setosa</td></tr><tr><th>30</th><td>4.7</td><td>3.2</td><td>1.6</td><td>0.2</td><td>setosa</td></tr><tr><th>&vellip;</th><td>&vellip;</td><td>&vellip;</td><td>&vellip;</td><td>&vellip;</td><td>&vellip;</td></tr></tbody></table>"
      ],
      "text/latex": [
       "\\begin{tabular}{r|ccccc}\n",
       "\t& SepalLength & SepalWidth & PetalLength & PetalWidth & Species\\\\\n",
       "\t\\hline\n",
       "\t1 & 5.1 & 3.5 & 1.4 & 0.2 & setosa \\\\\n",
       "\t2 & 4.9 & 3.0 & 1.4 & 0.2 & setosa \\\\\n",
       "\t3 & 4.7 & 3.2 & 1.3 & 0.2 & setosa \\\\\n",
       "\t4 & 4.6 & 3.1 & 1.5 & 0.2 & setosa \\\\\n",
       "\t5 & 5.0 & 3.6 & 1.4 & 0.2 & setosa \\\\\n",
       "\t6 & 5.4 & 3.9 & 1.7 & 0.4 & setosa \\\\\n",
       "\t7 & 4.6 & 3.4 & 1.4 & 0.3 & setosa \\\\\n",
       "\t8 & 5.0 & 3.4 & 1.5 & 0.2 & setosa \\\\\n",
       "\t9 & 4.4 & 2.9 & 1.4 & 0.2 & setosa \\\\\n",
       "\t10 & 4.9 & 3.1 & 1.5 & 0.1 & setosa \\\\\n",
       "\t11 & 5.4 & 3.7 & 1.5 & 0.2 & setosa \\\\\n",
       "\t12 & 4.8 & 3.4 & 1.6 & 0.2 & setosa \\\\\n",
       "\t13 & 4.8 & 3.0 & 1.4 & 0.1 & setosa \\\\\n",
       "\t14 & 4.3 & 3.0 & 1.1 & 0.1 & setosa \\\\\n",
       "\t15 & 5.8 & 4.0 & 1.2 & 0.2 & setosa \\\\\n",
       "\t16 & 5.7 & 4.4 & 1.5 & 0.4 & setosa \\\\\n",
       "\t17 & 5.4 & 3.9 & 1.3 & 0.4 & setosa \\\\\n",
       "\t18 & 5.1 & 3.5 & 1.4 & 0.3 & setosa \\\\\n",
       "\t19 & 5.7 & 3.8 & 1.7 & 0.3 & setosa \\\\\n",
       "\t20 & 5.1 & 3.8 & 1.5 & 0.3 & setosa \\\\\n",
       "\t21 & 5.4 & 3.4 & 1.7 & 0.2 & setosa \\\\\n",
       "\t22 & 5.1 & 3.7 & 1.5 & 0.4 & setosa \\\\\n",
       "\t23 & 4.6 & 3.6 & 1.0 & 0.2 & setosa \\\\\n",
       "\t24 & 5.1 & 3.3 & 1.7 & 0.5 & setosa \\\\\n",
       "\t25 & 4.8 & 3.4 & 1.9 & 0.2 & setosa \\\\\n",
       "\t26 & 5.0 & 3.0 & 1.6 & 0.2 & setosa \\\\\n",
       "\t27 & 5.0 & 3.4 & 1.6 & 0.4 & setosa \\\\\n",
       "\t28 & 5.2 & 3.5 & 1.5 & 0.2 & setosa \\\\\n",
       "\t29 & 5.2 & 3.4 & 1.4 & 0.2 & setosa \\\\\n",
       "\t30 & 4.7 & 3.2 & 1.6 & 0.2 & setosa \\\\\n",
       "\t31 & 4.8 & 3.1 & 1.6 & 0.2 & setosa \\\\\n",
       "\t32 & 5.4 & 3.4 & 1.5 & 0.4 & setosa \\\\\n",
       "\t33 & 5.2 & 4.1 & 1.5 & 0.1 & setosa \\\\\n",
       "\t34 & 5.5 & 4.2 & 1.4 & 0.2 & setosa \\\\\n",
       "\t35 & 4.9 & 3.1 & 1.5 & 0.2 & setosa \\\\\n",
       "\t36 & 5.0 & 3.2 & 1.2 & 0.2 & setosa \\\\\n",
       "\t37 & 5.5 & 3.5 & 1.3 & 0.2 & setosa \\\\\n",
       "\t38 & 4.9 & 3.6 & 1.4 & 0.1 & setosa \\\\\n",
       "\t39 & 4.4 & 3.0 & 1.3 & 0.2 & setosa \\\\\n",
       "\t40 & 5.1 & 3.4 & 1.5 & 0.2 & setosa \\\\\n",
       "\t41 & 5.0 & 3.5 & 1.3 & 0.3 & setosa \\\\\n",
       "\t42 & 4.5 & 2.3 & 1.3 & 0.3 & setosa \\\\\n",
       "\t43 & 4.4 & 3.2 & 1.3 & 0.2 & setosa \\\\\n",
       "\t44 & 5.0 & 3.5 & 1.6 & 0.6 & setosa \\\\\n",
       "\t45 & 5.1 & 3.8 & 1.9 & 0.4 & setosa \\\\\n",
       "\t46 & 4.8 & 3.0 & 1.4 & 0.3 & setosa \\\\\n",
       "\t47 & 5.1 & 3.8 & 1.6 & 0.2 & setosa \\\\\n",
       "\t48 & 4.6 & 3.2 & 1.4 & 0.2 & setosa \\\\\n",
       "\t49 & 5.3 & 3.7 & 1.5 & 0.2 & setosa \\\\\n",
       "\t50 & 5.0 & 3.3 & 1.4 & 0.2 & setosa \\\\\n",
       "\t51 & 7.0 & 3.2 & 4.7 & 1.4 & versicolor \\\\\n",
       "\t52 & 6.4 & 3.2 & 4.5 & 1.5 & versicolor \\\\\n",
       "\t53 & 6.9 & 3.1 & 4.9 & 1.5 & versicolor \\\\\n",
       "\t54 & 5.5 & 2.3 & 4.0 & 1.3 & versicolor \\\\\n",
       "\t55 & 6.5 & 2.8 & 4.6 & 1.5 & versicolor \\\\\n",
       "\t56 & 5.7 & 2.8 & 4.5 & 1.3 & versicolor \\\\\n",
       "\t57 & 6.3 & 3.3 & 4.7 & 1.6 & versicolor \\\\\n",
       "\t58 & 4.9 & 2.4 & 3.3 & 1.0 & versicolor \\\\\n",
       "\t59 & 6.6 & 2.9 & 4.6 & 1.3 & versicolor \\\\\n",
       "\t60 & 5.2 & 2.7 & 3.9 & 1.4 & versicolor \\\\\n",
       "\t61 & 5.0 & 2.0 & 3.5 & 1.0 & versicolor \\\\\n",
       "\t62 & 5.9 & 3.0 & 4.2 & 1.5 & versicolor \\\\\n",
       "\t63 & 6.0 & 2.2 & 4.0 & 1.0 & versicolor \\\\\n",
       "\t64 & 6.1 & 2.9 & 4.7 & 1.4 & versicolor \\\\\n",
       "\t65 & 5.6 & 2.9 & 3.6 & 1.3 & versicolor \\\\\n",
       "\t66 & 6.7 & 3.1 & 4.4 & 1.4 & versicolor \\\\\n",
       "\t67 & 5.6 & 3.0 & 4.5 & 1.5 & versicolor \\\\\n",
       "\t68 & 5.8 & 2.7 & 4.1 & 1.0 & versicolor \\\\\n",
       "\t69 & 6.2 & 2.2 & 4.5 & 1.5 & versicolor \\\\\n",
       "\t70 & 5.6 & 2.5 & 3.9 & 1.1 & versicolor \\\\\n",
       "\t71 & 5.9 & 3.2 & 4.8 & 1.8 & versicolor \\\\\n",
       "\t72 & 6.1 & 2.8 & 4.0 & 1.3 & versicolor \\\\\n",
       "\t73 & 6.3 & 2.5 & 4.9 & 1.5 & versicolor \\\\\n",
       "\t74 & 6.1 & 2.8 & 4.7 & 1.2 & versicolor \\\\\n",
       "\t75 & 6.4 & 2.9 & 4.3 & 1.3 & versicolor \\\\\n",
       "\t76 & 6.6 & 3.0 & 4.4 & 1.4 & versicolor \\\\\n",
       "\t77 & 6.8 & 2.8 & 4.8 & 1.4 & versicolor \\\\\n",
       "\t78 & 6.7 & 3.0 & 5.0 & 1.7 & versicolor \\\\\n",
       "\t79 & 6.0 & 2.9 & 4.5 & 1.5 & versicolor \\\\\n",
       "\t80 & 5.7 & 2.6 & 3.5 & 1.0 & versicolor \\\\\n",
       "\t81 & 5.5 & 2.4 & 3.8 & 1.1 & versicolor \\\\\n",
       "\t82 & 5.5 & 2.4 & 3.7 & 1.0 & versicolor \\\\\n",
       "\t83 & 5.8 & 2.7 & 3.9 & 1.2 & versicolor \\\\\n",
       "\t84 & 6.0 & 2.7 & 5.1 & 1.6 & versicolor \\\\\n",
       "\t85 & 5.4 & 3.0 & 4.5 & 1.5 & versicolor \\\\\n",
       "\t86 & 6.0 & 3.4 & 4.5 & 1.6 & versicolor \\\\\n",
       "\t87 & 6.7 & 3.1 & 4.7 & 1.5 & versicolor \\\\\n",
       "\t88 & 6.3 & 2.3 & 4.4 & 1.3 & versicolor \\\\\n",
       "\t89 & 5.6 & 3.0 & 4.1 & 1.3 & versicolor \\\\\n",
       "\t90 & 5.5 & 2.5 & 4.0 & 1.3 & versicolor \\\\\n",
       "\t91 & 5.5 & 2.6 & 4.4 & 1.2 & versicolor \\\\\n",
       "\t92 & 6.1 & 3.0 & 4.6 & 1.4 & versicolor \\\\\n",
       "\t93 & 5.8 & 2.6 & 4.0 & 1.2 & versicolor \\\\\n",
       "\t94 & 5.0 & 2.3 & 3.3 & 1.0 & versicolor \\\\\n",
       "\t95 & 5.6 & 2.7 & 4.2 & 1.3 & versicolor \\\\\n",
       "\t96 & 5.7 & 3.0 & 4.2 & 1.2 & versicolor \\\\\n",
       "\t97 & 5.7 & 2.9 & 4.2 & 1.3 & versicolor \\\\\n",
       "\t98 & 6.2 & 2.9 & 4.3 & 1.3 & versicolor \\\\\n",
       "\t99 & 5.1 & 2.5 & 3.0 & 1.1 & versicolor \\\\\n",
       "\t100 & 5.7 & 2.8 & 4.1 & 1.3 & versicolor \\\\\n",
       "\t101 & 6.3 & 3.3 & 6.0 & 2.5 & virginica \\\\\n",
       "\t102 & 5.8 & 2.7 & 5.1 & 1.9 & virginica \\\\\n",
       "\t103 & 7.1 & 3.0 & 5.9 & 2.1 & virginica \\\\\n",
       "\t104 & 6.3 & 2.9 & 5.6 & 1.8 & virginica \\\\\n",
       "\t105 & 6.5 & 3.0 & 5.8 & 2.2 & virginica \\\\\n",
       "\t106 & 7.6 & 3.0 & 6.6 & 2.1 & virginica \\\\\n",
       "\t107 & 4.9 & 2.5 & 4.5 & 1.7 & virginica \\\\\n",
       "\t108 & 7.3 & 2.9 & 6.3 & 1.8 & virginica \\\\\n",
       "\t109 & 6.7 & 2.5 & 5.8 & 1.8 & virginica \\\\\n",
       "\t110 & 7.2 & 3.6 & 6.1 & 2.5 & virginica \\\\\n",
       "\t111 & 6.5 & 3.2 & 5.1 & 2.0 & virginica \\\\\n",
       "\t112 & 6.4 & 2.7 & 5.3 & 1.9 & virginica \\\\\n",
       "\t113 & 6.8 & 3.0 & 5.5 & 2.1 & virginica \\\\\n",
       "\t114 & 5.7 & 2.5 & 5.0 & 2.0 & virginica \\\\\n",
       "\t115 & 5.8 & 2.8 & 5.1 & 2.4 & virginica \\\\\n",
       "\t116 & 6.4 & 3.2 & 5.3 & 2.3 & virginica \\\\\n",
       "\t117 & 6.5 & 3.0 & 5.5 & 1.8 & virginica \\\\\n",
       "\t118 & 7.7 & 3.8 & 6.7 & 2.2 & virginica \\\\\n",
       "\t119 & 7.7 & 2.6 & 6.9 & 2.3 & virginica \\\\\n",
       "\t120 & 6.0 & 2.2 & 5.0 & 1.5 & virginica \\\\\n",
       "\t121 & 6.9 & 3.2 & 5.7 & 2.3 & virginica \\\\\n",
       "\t122 & 5.6 & 2.8 & 4.9 & 2.0 & virginica \\\\\n",
       "\t123 & 7.7 & 2.8 & 6.7 & 2.0 & virginica \\\\\n",
       "\t124 & 6.3 & 2.7 & 4.9 & 1.8 & virginica \\\\\n",
       "\t125 & 6.7 & 3.3 & 5.7 & 2.1 & virginica \\\\\n",
       "\t126 & 7.2 & 3.2 & 6.0 & 1.8 & virginica \\\\\n",
       "\t127 & 6.2 & 2.8 & 4.8 & 1.8 & virginica \\\\\n",
       "\t128 & 6.1 & 3.0 & 4.9 & 1.8 & virginica \\\\\n",
       "\t129 & 6.4 & 2.8 & 5.6 & 2.1 & virginica \\\\\n",
       "\t130 & 7.2 & 3.0 & 5.8 & 1.6 & virginica \\\\\n",
       "\t131 & 7.4 & 2.8 & 6.1 & 1.9 & virginica \\\\\n",
       "\t132 & 7.9 & 3.8 & 6.4 & 2.0 & virginica \\\\\n",
       "\t133 & 6.4 & 2.8 & 5.6 & 2.2 & virginica \\\\\n",
       "\t134 & 6.3 & 2.8 & 5.1 & 1.5 & virginica \\\\\n",
       "\t135 & 6.1 & 2.6 & 5.6 & 1.4 & virginica \\\\\n",
       "\t136 & 7.7 & 3.0 & 6.1 & 2.3 & virginica \\\\\n",
       "\t137 & 6.3 & 3.4 & 5.6 & 2.4 & virginica \\\\\n",
       "\t138 & 6.4 & 3.1 & 5.5 & 1.8 & virginica \\\\\n",
       "\t139 & 6.0 & 3.0 & 4.8 & 1.8 & virginica \\\\\n",
       "\t140 & 6.9 & 3.1 & 5.4 & 2.1 & virginica \\\\\n",
       "\t141 & 6.7 & 3.1 & 5.6 & 2.4 & virginica \\\\\n",
       "\t142 & 6.9 & 3.1 & 5.1 & 2.3 & virginica \\\\\n",
       "\t143 & 5.8 & 2.7 & 5.1 & 1.9 & virginica \\\\\n",
       "\t144 & 6.8 & 3.2 & 5.9 & 2.3 & virginica \\\\\n",
       "\t145 & 6.7 & 3.3 & 5.7 & 2.5 & virginica \\\\\n",
       "\t146 & 6.7 & 3.0 & 5.2 & 2.3 & virginica \\\\\n",
       "\t147 & 6.3 & 2.5 & 5.0 & 1.9 & virginica \\\\\n",
       "\t148 & 6.5 & 3.0 & 5.2 & 2.0 & virginica \\\\\n",
       "\t149 & 6.2 & 3.4 & 5.4 & 2.3 & virginica \\\\\n",
       "\t150 & 5.9 & 3.0 & 5.1 & 1.8 & virginica \\\\\n",
       "\\end{tabular}\n"
      ],
      "text/plain": [
       "150×5 DataFrames.DataFrame\n",
       "│ Row │ SepalLength │ SepalWidth │ PetalLength │ PetalWidth │ Species      │\n",
       "│     │ \u001b[90mFloat64\u001b[39m     │ \u001b[90mFloat64\u001b[39m    │ \u001b[90mFloat64\u001b[39m     │ \u001b[90mFloat64\u001b[39m    │ \u001b[90mCategorical…\u001b[39m │\n",
       "├─────┼─────────────┼────────────┼─────────────┼────────────┼──────────────┤\n",
       "│ 1   │ 5.1         │ 3.5        │ 1.4         │ 0.2        │ setosa       │\n",
       "│ 2   │ 4.9         │ 3.0        │ 1.4         │ 0.2        │ setosa       │\n",
       "│ 3   │ 4.7         │ 3.2        │ 1.3         │ 0.2        │ setosa       │\n",
       "│ 4   │ 4.6         │ 3.1        │ 1.5         │ 0.2        │ setosa       │\n",
       "│ 5   │ 5.0         │ 3.6        │ 1.4         │ 0.2        │ setosa       │\n",
       "│ 6   │ 5.4         │ 3.9        │ 1.7         │ 0.4        │ setosa       │\n",
       "│ 7   │ 4.6         │ 3.4        │ 1.4         │ 0.3        │ setosa       │\n",
       "│ 8   │ 5.0         │ 3.4        │ 1.5         │ 0.2        │ setosa       │\n",
       "│ 9   │ 4.4         │ 2.9        │ 1.4         │ 0.2        │ setosa       │\n",
       "│ 10  │ 4.9         │ 3.1        │ 1.5         │ 0.1        │ setosa       │\n",
       "⋮\n",
       "│ 140 │ 6.9         │ 3.1        │ 5.4         │ 2.1        │ virginica    │\n",
       "│ 141 │ 6.7         │ 3.1        │ 5.6         │ 2.4        │ virginica    │\n",
       "│ 142 │ 6.9         │ 3.1        │ 5.1         │ 2.3        │ virginica    │\n",
       "│ 143 │ 5.8         │ 2.7        │ 5.1         │ 1.9        │ virginica    │\n",
       "│ 144 │ 6.8         │ 3.2        │ 5.9         │ 2.3        │ virginica    │\n",
       "│ 145 │ 6.7         │ 3.3        │ 5.7         │ 2.5        │ virginica    │\n",
       "│ 146 │ 6.7         │ 3.0        │ 5.2         │ 2.3        │ virginica    │\n",
       "│ 147 │ 6.3         │ 2.5        │ 5.0         │ 1.9        │ virginica    │\n",
       "│ 148 │ 6.5         │ 3.0        │ 5.2         │ 2.0        │ virginica    │\n",
       "│ 149 │ 6.2         │ 3.4        │ 5.4         │ 2.3        │ virginica    │\n",
       "│ 150 │ 5.9         │ 3.0        │ 5.1         │ 1.8        │ virginica    │"
      ]
     },
     "execution_count": 1,
     "metadata": {},
     "output_type": "execute_result"
    }
   ],
   "source": [
    "# 加载鸢尾花数据集，size = 150\n",
    "using RDatasets: dataset\n",
    "iris = dataset(\"datasets\", \"iris\")"
   ]
  },
  {
   "cell_type": "code",
   "execution_count": 12,
   "metadata": {},
   "outputs": [
    {
     "data": {
      "text/plain": [
       "150-element Array{String,1}:\n",
       " \"setosa\"   \n",
       " \"setosa\"   \n",
       " \"setosa\"   \n",
       " \"setosa\"   \n",
       " \"setosa\"   \n",
       " \"setosa\"   \n",
       " \"setosa\"   \n",
       " \"setosa\"   \n",
       " \"setosa\"   \n",
       " \"setosa\"   \n",
       " \"setosa\"   \n",
       " \"setosa\"   \n",
       " \"setosa\"   \n",
       " ⋮          \n",
       " \"virginica\"\n",
       " \"virginica\"\n",
       " \"virginica\"\n",
       " \"virginica\"\n",
       " \"virginica\"\n",
       " \"virginica\"\n",
       " \"virginica\"\n",
       " \"virginica\"\n",
       " \"virginica\"\n",
       " \"virginica\"\n",
       " \"virginica\"\n",
       " \"virginica\""
      ]
     },
     "execution_count": 12,
     "metadata": {},
     "output_type": "execute_result"
    }
   ],
   "source": [
    "# 将Dataframe数据转换为Array\n",
    "X = convert(Array, iris[[:SepalLength, :SepalWidth, :PetalLength, :PetalWidth]])\n",
    "y = convert(Array, iris[:Species])"
   ]
  },
  {
   "cell_type": "code",
   "execution_count": 14,
   "metadata": {},
   "outputs": [
    {
     "name": "stderr",
     "output_type": "stream",
     "text": [
      "WARNING: redefining constant LogisticRegression\n"
     ]
    },
    {
     "data": {
      "text/plain": [
       "PyObject <class 'sklearn.linear_model.logistic.LogisticRegression'>"
      ]
     },
     "execution_count": 14,
     "metadata": {},
     "output_type": "execute_result"
    }
   ],
   "source": [
    "# 加载sklearn库\n",
    "using ScikitLearn\n",
    "\n",
    "# 加载模型\n",
    "@sk_import linear_model: LogisticRegression"
   ]
  },
  {
   "cell_type": "code",
   "execution_count": 15,
   "metadata": {},
   "outputs": [
    {
     "name": "stdout",
     "output_type": "stream",
     "text": [
      "accuracy: 0.96\n"
     ]
    }
   ],
   "source": [
    "# 定义模型\n",
    "model = LogisticRegression(fit_intercept=true)\n",
    "\n",
    "#将数据输入模型\n",
    "fit!(model, X, y)\n",
    "\n",
    "# 使用predict函数进行预测，并计算准确率\n",
    "accuracy = sum(predict(model, X) .== y) / length(y)\n",
    "println(\"accuracy: $accuracy\")"
   ]
  },
  {
   "cell_type": "code",
   "execution_count": 17,
   "metadata": {},
   "outputs": [
    {
     "data": {
      "text/plain": [
       "5-element Array{Float64,1}:\n",
       " 1.0               \n",
       " 0.9666666666666667\n",
       " 0.9333333333333333\n",
       " 0.9               \n",
       " 1.0               "
      ]
     },
     "execution_count": 17,
     "metadata": {},
     "output_type": "execute_result"
    }
   ],
   "source": [
    "# 用Sklearn做N折交叉验证\n",
    "using ScikitLearn.CrossValidation: cross_val_score\n",
    "cross_val_score(LogisticRegression(), X, y; cv=5)"
   ]
  },
  {
   "cell_type": "code",
   "execution_count": 19,
   "metadata": {},
   "outputs": [
    {
     "name": "stderr",
     "output_type": "stream",
     "text": [
      "┌ Info: Precompiling Suppressor [fd094767-a336-5f1f-9728-57cf17d0bbfb]\n",
      "└ @ Base loading.jl:1187\n"
     ]
    },
    {
     "name": "stdout",
     "output_type": "stream",
     "text": [
      "Best parameters: Dict{Symbol,Any}(:C=>1.1)\n"
     ]
    }
   ],
   "source": [
    "using Suppressor: @suppress_err #忽略警告\n",
    "@suppress_err using ScikitLearn.GridSearch: GridSearchCV\n",
    "# 直接try不同的参数并返回最优参数\n",
    "gridsearch = GridSearchCV(LogisticRegression(), Dict(:C => 0.1:0.1:2.0))# C为正则项\n",
    "fit!(gridsearch, X, y)\n",
    "println(\"Best parameters: $(gridsearch.best_params_)\")"
   ]
  },
  {
   "cell_type": "code",
   "execution_count": 20,
   "metadata": {},
   "outputs": [
    {
     "data": {
      "image/png": "[encoded data removed]",
      "text/plain": [
       "Figure(PyObject <Figure size 640x480 with 1 Axes>)"
      ]
     },
     "metadata": {},
     "output_type": "display_data"
    },
    {
     "data": {
      "text/plain": [
       "1-element Array{PyCall.PyObject,1}:\n",
       " PyObject <matplotlib.lines.Line2D object at 0x1a41517128>"
      ]
     },
     "execution_count": 20,
     "metadata": {},
     "output_type": "execute_result"
    }
   ],
   "source": [
    "# 画图，在不同参数情况下，准确率的变化情况\n",
    "using PyPlot\n",
    "\n",
    "plot([cv_res.parameters[:C] for cv_res in gridsearch.grid_scores_],\n",
    "     [mean(cv_res.cv_validation_scores) for cv_res in gridsearch.grid_scores_])"
   ]
  }
 ],
 "metadata": {
  "kernelspec": {
   "display_name": "Julia 0.7.0",
   "language": "julia",
   "name": "julia-0.7"
  },
  "language_info": {
   "file_extension": ".jl",
   "mimetype": "application/julia",
   "name": "julia",
   "version": "0.7.0"
  }
 },
 "nbformat": 4,
 "nbformat_minor": 2
}
